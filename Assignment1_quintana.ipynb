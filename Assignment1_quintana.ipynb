{
 "cells": [
  {
   "cell_type": "markdown",
   "metadata": {},
   "source": [
    "# Analyzing A Network of Synaptic Interactions [100 Points]"
   ]
  },
  {
   "cell_type": "code",
   "execution_count": 2,
   "metadata": {},
   "outputs": [],
   "source": [
    "import matplotlib.pyplot as plt\n",
    "import networkx as nx\n",
    "import seaborn as sns\n",
    "import numpy as np\n",
    "import scipy as sp"
   ]
  },
  {
   "cell_type": "markdown",
   "metadata": {},
   "source": [
    "## Part I"
   ]
  },
  {
   "cell_type": "code",
   "execution_count": 3,
   "metadata": {},
   "outputs": [
    {
     "data": {
      "image/png": "[encoded data removed]",
      "text/plain": [
       "<Figure size 432x288 with 1 Axes>"
      ]
     },
     "metadata": {},
     "output_type": "display_data"
    }
   ],
   "source": [
    "#Part I-1\n",
    "#Implement your code and show the visualization\n",
    "\n",
    "G = nx.Graph()\n",
    "G.add_edge(0,1)\n",
    "G.add_edge(0,2)\n",
    "G.add_edge(1,2)\n",
    "G.add_edge(2,3)\n",
    "G.add_edge(2,4)\n",
    "G.add_edge(3,4)\n",
    "G.add_edge(5,6)\n",
    "G.add_edge(5,7)\n",
    "G.add_node(8)\n",
    "\n",
    "options = {\n",
    "    \"font_size\": 12,\n",
    "    # \"node_size\": 3000,\n",
    "    \"node_color\": \"white\",\n",
    "    \"edgecolors\": \"black\",\n",
    "    # \"linewidths\": 5,\n",
    "    # \"width\": 5,\n",
    "}\n",
    "\n",
    "pos = {0: (0.5, 1), 1: (0,0), 2: (1,0), 3: (2, 0), 4: (1,-1), 5: (3,1), 6: (3,0), 7: (4,1), 8: (2,1)}\n",
    "nx.draw(G, pos, **options, with_labels = True)\n"
   ]
  },
  {
   "cell_type": "code",
   "execution_count": 4,
   "metadata": {},
   "outputs": [],
   "source": [
    "#Part I-2.a\n",
    "#Implement your code and write the answer in the Markdown cell right below\n",
    "G = nx.read_graphml(\"Assignment1_Part1-2_cities_data.graphml\") # parse graphml file\n",
    "\n",
    "# print(G.edges(data=True))\n",
    "\n",
    "# GTest = nx.Graph()\n",
    "\n",
    "# GTest.add_edge('Hialeah','Cuba')\n",
    "# GTest.add_edge('Hialeah', 'Orlando')\n",
    "\n",
    "# nx.draw(GTest, with_labels=True)"
   ]
  },
  {
   "cell_type": "markdown",
   "metadata": {},
   "source": [
    "Type your answer for Part I-2.a here\n",
    "_______________________________________________________________________________\n",
    "\n",
    "number of nodes: \n",
    "number of edges: \n",
    "number of the pairs : "
   ]
  },
  {
   "cell_type": "code",
   "execution_count": 5,
   "metadata": {},
   "outputs": [],
   "source": [
    "#Part I-2.b\n",
    "#Implement your code and show the visualization of Question 4\n",
    "def cities_within_100(G, city_list):\n",
    "    '''\n",
    "    Input\n",
    "    G: graph\n",
    "    city_list: list of strings (names of cities in G)\n",
    "\n",
    "    Output\n",
    "    S: subgraph of G that only contains edges between cities in “city_list” and directly neighboring cities that are less than 100 miles away\n",
    "    '''\n",
    "    \n",
    "    # temporary graph\n",
    "    G2 = nx.Graph()\n",
    "\n",
    "    # iterate through edges, if edge weight is < 100, keep it\n",
    "    lEdges = G.edges(data=True)\n",
    "\n",
    "    for city in city_list:\n",
    "        for edge in lEdges:\n",
    "            # print(edge)\n",
    "            if edge[2]['weight'] < 100 and city == edge[0]: # if first point of an edge is THIS city and dist <100\n",
    "                G2.add_edge(city, edge[1])\n",
    "            elif edge[2]['weight'] < 100 and city == edge[1]:  # if second point of an edge is THIS city\n",
    "                G2.add_edge(city, edge[0])\n",
    "\n",
    "    # options = {\n",
    "    # # \"font_size\": 6,\n",
    "    # # \"node_size\": 3000,\n",
    "    # \"node_color\": \"white\",\n",
    "    # \"edgecolors\": \"black\",\n",
    "    # # \"linewidths\": 5,\n",
    "    # # \"width\": 5,\n",
    "    # }\n",
    "\n",
    "    # nx.draw(G2, **options, with_labels=True)   \n",
    "    return G2\n",
    "\n",
    "\n",
    "# ################ TEST CODE RM LATER #######################\n",
    "# lNodes = G.nodes(data=True)\n",
    "# city_list = []\n",
    "# [city_list.append(lNode[0]) for lNode in lNodes]\n",
    "# # print(city_list)\n",
    "# cities_within_100(G, [\"Rochester, NY\",\"Tacoma, WA\"])\n"
   ]
  },
  {
   "cell_type": "code",
   "execution_count": 6,
   "metadata": {},
   "outputs": [
    {
     "name": "stdout",
     "output_type": "stream",
     "text": [
      "GCycle max eigen:  1.9999999999999993\n",
      "Average Degree 1.0\n",
      "GClique max eigen:  9.0\n",
      "Average Degree 4.5\n",
      "GStar max eigen:  3.1622776601683795\n",
      "Average Degree 1.0\n"
     ]
    },
    {
     "data": {
      "image/png": "[encoded data removed]",
      "text/plain": [
       "<Figure size 432x288 with 1 Axes>"
      ]
     },
     "metadata": {},
     "output_type": "display_data"
    }
   ],
   "source": [
    "#Part I-3\n",
    "#Implement your code and write the answer in the Markdown cell right below\n",
    "N = 10\n",
    "# Cycle Network\n",
    "GCycle = nx.cycle_graph(N)\n",
    "[w, v] = np.linalg.eig(nx.to_numpy_matrix(GCycle))\n",
    "print(\"GCycle max eigen: \", max(w))\n",
    "print(\"Average Degree\", len(GCycle.edges)/10)\n",
    "# nx.draw(GCycle)\n",
    "\n",
    "\n",
    "# Clique (complete) Network\n",
    "GClique = nx.complete_graph(N)\n",
    "[w, v] = np.linalg.eig(nx.to_numpy_matrix(GClique))\n",
    "print(\"GClique max eigen: \",max(w))\n",
    "print(\"Average Degree\", len(GClique.edges)/10)\n",
    "# nx.draw(GClique)\n",
    "\n",
    "# star network\n",
    "GStar = nx.star_graph(N)\n",
    "[w, v] = np.linalg.eig(nx.to_numpy_matrix(GStar))\n",
    "print(\"GStar max eigen: \",max(w))\n",
    "print(\"Average Degree\", len(GStar.edges)/10)\n",
    "nx.draw(GStar)\n",
    "\n"
   ]
  },
  {
   "cell_type": "markdown",
   "metadata": {},
   "source": [
    "Type your answer for Part I-3 here\n",
    "_______________________________________________________________________________\n",
    "\n",
    "The Clique's adjacency matrix has the largest maximum eigen value, star the second largest, and ring has the smallest. \n",
    "\n",
    "The largest eigen value of an adjacency matrix should always be less than the maximum node degree of that network. The eigen values calculated above agree with their respective graphs. The ring graph has a maximum degree of 2, which is just greater than its max eigen value of 1.99. The ring graph's average degree although is 1, because it has the same number of edges as nodes. All nodes in the Complete/Clique graph have the same degree of 9 since they are fully connected, which is equal to its max eigen value of 9. The average of this graph is 4.5 again due to the way average degree is calculated which is L/N. The Star network's maximum degree is that of the center node and is 10, which is greater than its max eigen which is 3.16. The average degree of the star is 1, because it has 10 nodes and 10 edges."
   ]
  },
  {
   "cell_type": "markdown",
   "metadata": {},
   "source": [
    "## PART II"
   ]
  },
  {
   "cell_type": "code",
   "execution_count": 7,
   "metadata": {},
   "outputs": [
    {
     "name": "stdout",
     "output_type": "stream",
     "text": [
      "True\n"
     ]
    }
   ],
   "source": [
    "#Part II-1\n",
    "#Implement your code here and write the answer in the Markdown cell right below\n",
    "G = nx.read_gml(\"Assignment1_Part2_lesmis_data.gml\")\n",
    "# print(G.nodes)\n",
    "\n",
    "# A network is connected if all pairs of nodes in the network are connected\n",
    "print(nx.is_connected(G))"
   ]
  },
  {
   "cell_type": "markdown",
   "metadata": {},
   "source": [
    "Type your answer for Part II-1 here\n",
    "__________________________________\n",
    "\n",
    "Yes this graph is connected"
   ]
  },
  {
   "cell_type": "code",
   "execution_count": 8,
   "metadata": {},
   "outputs": [
    {
     "data": {
      "image/png": "[encoded data removed]",
      "text/plain": [
       "<Figure size 432x288 with 1 Axes>"
      ]
     },
     "metadata": {
      "needs_background": "light"
     },
     "output_type": "display_data"
    }
   ],
   "source": [
    "#Part II-2\n",
    "#Implement your code and plot your distribution\n",
    "\n",
    "paths = dict(nx.all_pairs_shortest_path(G))\n",
    "# print(paths[\"Myriel\"])\n",
    "\n",
    "datavec = []\n",
    "pathlengths = {}\n",
    "usedPersons = []\n",
    "\n",
    "# print(pathlengths)\n",
    "# iterate through each person\n",
    "for person in G.nodes:\n",
    "    usedPersons.append(person) # keep track of who we have counted\n",
    "    # get all the path lengths except for the first\n",
    "    for person2 in G.nodes:\n",
    "        if person2 == person:   # skip same person\n",
    "            continue\n",
    "        if person2 in usedPersons:  # skip people already counted\n",
    "            continue\n",
    "        else:\n",
    "            pathlength = len(paths[person][person2])-1# find the length between these two people\n",
    "            # print(pathlength)\n",
    "            datavec.append(pathlength)\n",
    "\n",
    "# account for double counts\n",
    "for path in pathlengths:\n",
    "    pathlengths[path] /= 2\n",
    "# print(pathlengths)\n",
    "\n",
    "################ plotting stuff #####################\n",
    "\n",
    "# print(stuff)\n",
    "\n",
    "\n",
    "plt.hist(datavec, 5)\n",
    "plt.ylabel(\"Count\")\n",
    "plt.xlabel(\"Shortest Path Lengths\")\n",
    "plt.title(\"Dist. of Shortest Path Lengths Between All Node Pairs\")\n",
    "plt.show()\n"
   ]
  },
  {
   "cell_type": "code",
   "execution_count": 9,
   "metadata": {},
   "outputs": [
    {
     "ename": "SyntaxError",
     "evalue": "unexpected EOF while parsing (<ipython-input-9-b8ce94b5a8f7>, line 14)",
     "output_type": "error",
     "traceback": [
      "\u001b[1;36m  File \u001b[1;32m\"<ipython-input-9-b8ce94b5a8f7>\"\u001b[1;36m, line \u001b[1;32m14\u001b[0m\n\u001b[1;33m    # for each edge\u001b[0m\n\u001b[1;37m                   ^\u001b[0m\n\u001b[1;31mSyntaxError\u001b[0m\u001b[1;31m:\u001b[0m unexpected EOF while parsing\n"
     ]
    }
   ],
   "source": [
    "#Part II-3\n",
    "#Implement your code here and write the answer in the Markdown cell right below\n",
    "#rq come back to this\n",
    "lEdges = G.edges(data=True) # edges with weights\n",
    "lNodes = G.nodes()\n",
    "# print(lEdges[0])\n",
    "\n",
    "# Build P\n",
    "P = np.zeros((len(lNodes),len(lNodes))) # P is a matrix with dimensions node x node\n",
    "# print(len(lNodes))\n",
    "\n",
    "for person in lNodes: # for each person\n",
    "    \n",
    "    # for each edge\n"
   ]
  },
  {
   "cell_type": "markdown",
   "metadata": {},
   "source": [
    "Type your answer for Part II-3 here\n",
    "_______________________________________________________________________________\n"
   ]
  },
  {
   "cell_type": "markdown",
   "metadata": {},
   "source": [
    "## Part III"
   ]
  },
  {
   "cell_type": "code",
   "execution_count": null,
   "metadata": {},
   "outputs": [
    {
     "name": "stdout",
     "output_type": "stream",
     "text": [
      "1781\n"
     ]
    }
   ],
   "source": [
    "#Load the graph\n",
    "G = nx.read_graphml(\"Assignment1_Part3_drosophila_medulla_data.graphml\")\n",
    "print(len(G.nodes))"
   ]
  },
  {
   "cell_type": "code",
   "execution_count": null,
   "metadata": {},
   "outputs": [
    {
     "name": "stdout",
     "output_type": "stream",
     "text": [
      "99.38236945536215\n"
     ]
    }
   ],
   "source": [
    "#Part III-1\n",
    "#Implement your code and write the answer in the Markdown cell right below\n",
    "\n",
    "largest_weak = max(nx.weakly_connected_components(G), key=len)\n",
    "# print(len(largest_cc))\n",
    "\n",
    "percentage = len(largest_weak)/len(G.nodes)*100\n",
    "print(percentage)"
   ]
  },
  {
   "cell_type": "markdown",
   "metadata": {},
   "source": [
    "Percentage of largest weakly connected component: 99.38%\n",
    "__________________________________"
   ]
  },
  {
   "cell_type": "code",
   "execution_count": null,
   "metadata": {},
   "outputs": [
    {
     "name": "stdout",
     "output_type": "stream",
     "text": [
      "44.07636159460977\n"
     ]
    }
   ],
   "source": [
    "#Part III-2\n",
    "#Implement your code and write the answer in the Markdown cell right below\n",
    "\n",
    "largest_strong = max(nx.strongly_connected_components(G), key=len)\n",
    "# print(len(largest))\n",
    "\n",
    "percentage = len(largest_strong)/len(G.nodes)*100\n",
    "print(percentage)\n"
   ]
  },
  {
   "cell_type": "markdown",
   "metadata": {},
   "source": [
    "Percentage of largest strongly connected component: 44.08%\n",
    "_______________________________________________________________________________\n"
   ]
  },
  {
   "cell_type": "code",
   "execution_count": null,
   "metadata": {},
   "outputs": [],
   "source": [
    "#Part III-3\n",
    "#Implement your code and show the distribution\n",
    "\n",
    "# rq come back to this"
   ]
  },
  {
   "cell_type": "markdown",
   "metadata": {},
   "source": [
    "## PART IV"
   ]
  },
  {
   "cell_type": "code",
   "execution_count": 40,
   "metadata": {},
   "outputs": [
    {
     "name": "stdout",
     "output_type": "stream",
     "text": [
      "False\n"
     ]
    }
   ],
   "source": [
    "#Part IV-1 \n",
    "\n",
    "# print(G.edges)\n",
    "data1 = np.loadtxt(\"Assignment1_Part4_github_data.txt\")\n",
    "\n",
    "# print(data1.shape[0])\n",
    "# modify name \n",
    "first_col = []*2\n",
    "\n",
    "for i in range(data1.shape[0]):\n",
    "    first_col.append((\"user_\"+str(data1[i][0]), \"project_\"+str(data1[i][1])))\n",
    "    \n",
    "# print(first_col)\n",
    "\n",
    "B = nx.Graph()\n",
    "# Add nodes with the node attribute \"bipartite\"\n",
    "B.add_nodes_from(first_col[:][0], bipartite=0)\n",
    "B.add_nodes_from(first_col[:][1], bipartite=1)\n",
    "# Add edges only between nodes of opposite node sets\n",
    "B.add_edges_from(first_col)\n",
    "# print(B.nodes)\n",
    "print(nx.is_connected(B))\n"
   ]
  },
  {
   "cell_type": "markdown",
   "metadata": {},
   "source": [
    "Type your answer for Part IV-1 here\n",
    "_______________________________________________________________________________\n",
    "People with most number of shared memberships:"
   ]
  },
  {
   "cell_type": "code",
   "execution_count": null,
   "metadata": {},
   "outputs": [],
   "source": [
    "#Part IV-2 (Continue)\n",
    "#Implement your code and write the answer in the Markdown cell right below"
   ]
  },
  {
   "cell_type": "markdown",
   "metadata": {},
   "source": [
    "Type your answer for Part IV-2 here\n",
    "_______________________________________________________________________________\n",
    "\n",
    "Projects with most number of shared users:"
   ]
  },
  {
   "cell_type": "markdown",
   "metadata": {},
   "source": [
    "## PART V"
   ]
  },
  {
   "cell_type": "code",
   "execution_count": 307,
   "metadata": {},
   "outputs": [
    {
     "name": "stdout",
     "output_type": "stream",
     "text": [
      "False\n"
     ]
    }
   ],
   "source": [
    "#Part V-1\n",
    "#Implement your code and write the answer in the Markdown cell right below\n",
    "G = nx.read_edgelist(\"Assignment1_Part5_language_data.txt\")\n",
    "# print(G.edges)\n",
    "\n",
    "print(nx.is_directed_acyclic_graph(G))"
   ]
  },
  {
   "cell_type": "markdown",
   "metadata": {},
   "source": [
    "The Graph is NOT a DAG\n",
    "_______________________________________________________________________________\n",
    "\n"
   ]
  },
  {
   "cell_type": "code",
   "execution_count": null,
   "metadata": {},
   "outputs": [],
   "source": [
    "#Part V-2\n",
    "#Implement your code "
   ]
  },
  {
   "cell_type": "code",
   "execution_count": null,
   "metadata": {},
   "outputs": [],
   "source": [
    "#Part V-3\n",
    "#Implement your code and write the answer in the Markdown cell right below"
   ]
  },
  {
   "cell_type": "markdown",
   "metadata": {},
   "source": [
    "Type your answer for Part V-3 here\n",
    "_______________________________________________________________________________\n"
   ]
  },
  {
   "cell_type": "code",
   "execution_count": null,
   "metadata": {},
   "outputs": [],
   "source": []
  }
 ],
 "metadata": {
  "kernelspec": {
   "display_name": "Python 3",
   "language": "python",
   "name": "python3"
  },
  "language_info": {
   "codemirror_mode": {
    "name": "ipython",
    "version": 3
   },
   "file_extension": ".py",
   "mimetype": "text/x-python",
   "name": "python",
   "nbconvert_exporter": "python",
   "pygments_lexer": "ipython3",
   "version": "3.8.3"
  }
 },
 "nbformat": 4,
 "nbformat_minor": 2
}
